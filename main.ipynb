{
 "cells": [
  {
   "cell_type": "code",
   "execution_count": 1,
   "metadata": {},
   "outputs": [],
   "source": [
    "from selenium.webdriver.edge.service import Service\n",
    "from selenium.webdriver.edge.options import Options\n",
    "from selenium.webdriver.common.by import By\n",
    "from selenium.webdriver.support.ui import WebDriverWait\n",
    "from selenium.webdriver.support import expected_conditions as EC\n",
    "from selenium.webdriver.common.action_chains import ActionChains\n",
    "from selenium import webdriver\n",
    "from selenium.common.exceptions import TimeoutException\n",
    "import time\n",
    "import pandas as pd\n",
    "from selenium.webdriver.common.keys import Keys\n",
    "from bs4 import BeautifulSoup"
   ]
  },
  {
   "cell_type": "code",
   "execution_count": 3,
   "metadata": {},
   "outputs": [],
   "source": [
    "edge_options = Options()\n",
    "edge_options.add_argument(\"--disable-gpu\")\n",
    "edge_options.add_argument(\"--no-sandbox\")\n",
    "edge_options.add_argument(\"--disable-dev-shm-usage\")"
   ]
  },
  {
   "cell_type": "code",
   "execution_count": null,
   "metadata": {},
   "outputs": [
    {
     "name": "stdout",
     "output_type": "stream",
     "text": [
      "Logged in.\n",
      "Selected 'Most Recent Comments'.\n",
      "Page source saved to debug_page.html.\n"
     ]
    }
   ],
   "source": [
    "edge_service = Service(executable_path=\"your_edge_driver_path\")\n",
    "driver = webdriver.Edge(service=edge_service, options=edge_options)\n",
    "\n",
    "try:\n",
    "    # Login\n",
    "    driver.get(\"https://www.linkedin.com/login\")\n",
    "    WebDriverWait(driver, 10).until(EC.presence_of_element_located((By.ID, \"username\"))).send_keys(\"your_email\")\n",
    "    WebDriverWait(driver, 10).until(EC.presence_of_element_located((By.ID, \"password\"))).send_keys(\"your_password\")\n",
    "    driver.find_element(By.XPATH, \"//button[@type='submit']\").click()\n",
    "    print(\"Logged in.\")\n",
    "\n",
    "    # Open LinkedIn Post\n",
    "    driver.get(\"post_url\")\n",
    "    time.sleep(5)\n",
    "\n",
    "    # Select Most Recent Comments\n",
    "    menu_button = WebDriverWait(driver, 10).until(\n",
    "        EC.presence_of_element_located((By.XPATH, \"//button[contains(@class, 'comments-sort-order-toggle__trigger')]\"))\n",
    "    )\n",
    "    menu_button.click()\n",
    "    time.sleep(2)\n",
    "\n",
    "    actions = ActionChains(driver)\n",
    "    actions.send_keys(Keys.ARROW_DOWN).pause(0.5)\n",
    "    actions.send_keys(Keys.ARROW_DOWN).pause(0.5)\n",
    "    actions.send_keys(Keys.ENTER)\n",
    "    actions.perform()\n",
    "    print(\"Selected 'Most Recent Comments'.\")\n",
    "\n",
    "    # Load All Comments\n",
    "    while True:\n",
    "        try:\n",
    "            load_more_button = WebDriverWait(driver, 5).until(\n",
    "                EC.element_to_be_clickable((By.CSS_SELECTOR, \"button.comments-comments-list__load-more-comments-button--cr\"))\n",
    "            )\n",
    "            load_more_button.click()\n",
    "            time.sleep(2)\n",
    "        except TimeoutException:\n",
    "            print(\"No more comments to load.\")\n",
    "            break\n",
    "\n",
    "    # Save Page Source\n",
    "    with open(\"debug_page.html\", \"w\", encoding=\"utf-8\") as f:\n",
    "        f.write(driver.page_source)\n",
    "    print(\"Page source saved to debug_page.html.\")\n",
    "finally:\n",
    "    driver.quit()"
   ]
  },
  {
   "cell_type": "code",
   "execution_count": null,
   "metadata": {},
   "outputs": [
    {
     "name": "stdout",
     "output_type": "stream",
     "text": [
      "Data saved to linkedin_comments.csv\n"
     ]
    }
   ],
   "source": [
    "# Define the word to filter comments\n",
    "FILTER_WORD = \"example_word\"\n",
    "\n",
    "# Read the saved HTML file\n",
    "with open(\"debug_page.html\", \"r\", encoding=\"utf-8\") as file:\n",
    "    html_content = file.read()\n",
    "\n",
    "# Parse the content with BeautifulSoup\n",
    "soup = BeautifulSoup(html_content, 'html.parser')\n",
    "\n",
    "# Extract user names, profile links, and comments\n",
    "user_names = []\n",
    "user_links = []\n",
    "comments = []\n",
    "\n",
    "for user in soup.find_all('span', class_='comments-comment-meta__description-title'):  \n",
    "    user_names.append(user.text.strip())\n",
    "\n",
    "for link in soup.find_all('a', class_='uBRuLksiXRXJNxzCdmDLlNvbeHoNnTVInTsbWCI tap-target overflow-hidden', href=True):\n",
    "    user_links.append(link['href'])\n",
    "\n",
    "for comment in soup.find_all('span', class_='comments-comment-item__main-content'):  \n",
    "    comments.append(comment.text.strip())\n",
    "\n",
    "df = pd.DataFrame({\n",
    "    'User Name': user_names,\n",
    "    'User Link': user_links,\n",
    "    'Comment': comments\n",
    "})\n",
    "\n",
    "\n",
    "df.to_csv('linkedin_comments.csv', index=False)\n",
    "print(\"Data saved to linkedin_comments.csv\")\n"
   ]
  }
 ],
 "metadata": {
  "kernelspec": {
   "display_name": "Python (faiss_env)",
   "language": "python",
   "name": "faiss_env"
  },
  "language_info": {
   "codemirror_mode": {
    "name": "ipython",
    "version": 3
   },
   "file_extension": ".py",
   "mimetype": "text/x-python",
   "name": "python",
   "nbconvert_exporter": "python",
   "pygments_lexer": "ipython3",
   "version": "3.12.7"
  }
 },
 "nbformat": 4,
 "nbformat_minor": 2
}
